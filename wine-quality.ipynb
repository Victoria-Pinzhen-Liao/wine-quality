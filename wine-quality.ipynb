{
 "cells": [
  {
   "cell_type": "markdown",
   "source": [
    "# Machine Learning Based Wine Quality Prediction Project\n",
    "\n",
    "By Victoria Pinzhen Liao\n",
    "\n",
    "Blog: [purrgramming.life - wine](https://purrgramming.life/machine-learning/wine/)\n",
    "GitHub: [Victoria-Pinzhen-Liao/wine-quality](https://github.com/Victoria-Pinzhen-Liao/wine-quality)\n",
    "\n",
    "In this beginner-friendly project, we will build some classic machine learning models to predict the quality of red and white wines based on physicochemical variables.\n",
    "It's a classification task---a type of supervised learning in which the output are usually some sorts of labels.\n",
    "\n",
    "**Goal**: The project gives beginners a general idea of the workflow of supervised machine learning projects.\n",
    "\n",
    "![](wine.jpg)\n",
    "\n",
    "\n",
    "## Dataset\n",
    "\n",
    "To build models for the quality prediction of red and white wines, we will use the Wine Quality Dataset of the University of California, Irvine.\n",
    "This dataset contains some physicochemical values of wine together with their quality. We can use this dataset to train the model and predict the quality.\n",
    "\n",
    "###  Reference\n",
    "Paulo Cortez, University of Minho, Guimarães, Portugal, http://www3.dsi.uminho.pt/pcortez\n",
    "A. Cerdeira, F. Almeida, T. Matos and J. Reis, Viticulture Commission of the Vinho Verde Region(CVRVV), Porto, Portugal @2009\n",
    "\n"
   ],
   "metadata": {
    "collapsed": false,
    "pycharm": {
     "name": "#%% md\n"
    }
   }
  },
  {
   "cell_type": "markdown",
   "source": [
    "\n",
    "--------------------------\n",
    "\n",
    "## Get Started\n",
    "\n",
    "Let's begin by importing the libraries we need for this project."
   ],
   "metadata": {
    "collapsed": false,
    "pycharm": {
     "name": "#%% md\n"
    }
   }
  },
  {
   "cell_type": "code",
   "execution_count": 1,
   "outputs": [],
   "source": [
    "# For visualization\n",
    "import matplotlib.pyplot as plt\n",
    "import seaborn as sns\n",
    "\n",
    "# Use a family of colors that have relatively high lightness and low saturation in plotting.\n",
    "plt.style.use([\"seaborn-pastel\"])\n",
    "\n",
    "# For numeric computation with arrays and dataframes.\n",
    "import numpy as np\n",
    "import pandas as pd\n",
    "\n",
    "# Scikit-learn is a free software machine learning library.\n",
    "\n",
    "# For using sklearn's classifiers\n",
    "from sklearn.ensemble import RandomForestClassifier, GradientBoostingClassifier, AdaBoostClassifier\n",
    "from sklearn.linear_model import LogisticRegression, SGDClassifier\n",
    "from sklearn.naive_bayes import GaussianNB\n",
    "from sklearn.neighbors import KNeighborsClassifier\n",
    "from sklearn.svm import LinearSVC, SVC\n",
    "from sklearn.tree import DecisionTreeClassifier\n",
    "from sklearn.preprocessing import StandardScaler\n",
    "from sklearn.gaussian_process import GaussianProcessClassifier\n",
    "from sklearn.neural_network import MLPClassifier\n",
    "\n",
    "# For evaluating the performance of sklearn's models  \n",
    "from sklearn.metrics import accuracy_score, f1_score\n",
    "from sklearn.model_selection import GridSearchCV, train_test_split\n",
    "\n",
    "# For saving and loading models \n",
    "import pickle\n",
    "\n",
    "# Ignore warnings\n",
    "import warnings\n",
    "\n",
    "warnings.filterwarnings(\"ignore\")"
   ],
   "metadata": {
    "collapsed": false,
    "pycharm": {
     "name": "#%%\n"
    }
   }
  },
  {
   "cell_type": "markdown",
   "source": [
    "\n",
    "## Step 1: Data Analysis\n",
    "\n",
    "Before we start the model training, we first analyze the data to get more insights. For example, we can check the data quality and filter out incorrect outliers.\n",
    "\n",
    "We will follow these steps\n",
    "\n",
    "- Importing the Dataset\n",
    "- Dataset Description\n",
    "- Data Validation (Find Null and Outliers)\n",
    "- Data Visualization\n",
    "- Correlation / Bivariate Analysis\n",
    "\n",
    "### Import the Dataset\n",
    "\n"
   ],
   "metadata": {
    "collapsed": false,
    "pycharm": {
     "name": "#%% md\n"
    }
   }
  },
  {
   "cell_type": "code",
   "execution_count": 2,
   "outputs": [],
   "source": [
    "# Online file path to the CSV files\n",
    "csv_file_white = \"https://archive.ics.uci.edu/ml/machine-learning-databases/wine-quality/winequality-white.csv\"\n",
    "csv_file_red = \"https://archive.ics.uci.edu/ml/machine-learning-databases/wine-quality/winequality-red.csv\"\n"
   ],
   "metadata": {
    "collapsed": false,
    "pycharm": {
     "name": "#%%\n"
    }
   }
  },
  {
   "cell_type": "code",
   "execution_count": 3,
   "outputs": [
    {
     "data": {
      "text/plain": "63674"
     },
     "execution_count": 3,
     "metadata": {},
     "output_type": "execute_result"
    }
   ],
   "source": [
    "# Read winequality-white.csv into the dataframe\n",
    "white_wine = pd.read_csv(csv_file_white, sep=\";\")\n",
    "\n",
    "# Set color\n",
    "white_wine[\"color\"] = \"white\"\n",
    "\n",
    "white_wine.size"
   ],
   "metadata": {
    "collapsed": false,
    "pycharm": {
     "name": "#%%\n"
    }
   }
  },
  {
   "cell_type": "code",
   "execution_count": 4,
   "outputs": [
    {
     "data": {
      "text/plain": "20787"
     },
     "execution_count": 4,
     "metadata": {},
     "output_type": "execute_result"
    }
   ],
   "source": [
    "# Read winequality-red.csv into the dataframe\n",
    "red_wine = pd.read_csv(csv_file_red, sep=\";\")\n",
    "\n",
    "# Set color\n",
    "red_wine[\"color\"] = \"red\"\n",
    "\n",
    "red_wine.size"
   ],
   "metadata": {
    "collapsed": false,
    "pycharm": {
     "name": "#%%\n"
    }
   }
  },
  {
   "cell_type": "code",
   "execution_count": 5,
   "outputs": [
    {
     "data": {
      "text/plain": "   fixed acidity  volatile acidity  citric acid  residual sugar  chlorides  \\\n0            7.0              0.27         0.36            20.7      0.045   \n1            6.3              0.30         0.34             1.6      0.049   \n2            8.1              0.28         0.40             6.9      0.050   \n3            7.2              0.23         0.32             8.5      0.058   \n4            7.2              0.23         0.32             8.5      0.058   \n\n   free sulfur dioxide  total sulfur dioxide  density    pH  sulphates  \\\n0                 45.0                 170.0   1.0010  3.00       0.45   \n1                 14.0                 132.0   0.9940  3.30       0.49   \n2                 30.0                  97.0   0.9951  3.26       0.44   \n3                 47.0                 186.0   0.9956  3.19       0.40   \n4                 47.0                 186.0   0.9956  3.19       0.40   \n\n   alcohol  quality  color  \n0      8.8        6  white  \n1      9.5        6  white  \n2     10.1        6  white  \n3      9.9        6  white  \n4      9.9        6  white  ",
      "text/html": "<div>\n<style scoped>\n    .dataframe tbody tr th:only-of-type {\n        vertical-align: middle;\n    }\n\n    .dataframe tbody tr th {\n        vertical-align: top;\n    }\n\n    .dataframe thead th {\n        text-align: right;\n    }\n</style>\n<table border=\"1\" class=\"dataframe\">\n  <thead>\n    <tr style=\"text-align: right;\">\n      <th></th>\n      <th>fixed acidity</th>\n      <th>volatile acidity</th>\n      <th>citric acid</th>\n      <th>residual sugar</th>\n      <th>chlorides</th>\n      <th>free sulfur dioxide</th>\n      <th>total sulfur dioxide</th>\n      <th>density</th>\n      <th>pH</th>\n      <th>sulphates</th>\n      <th>alcohol</th>\n      <th>quality</th>\n      <th>color</th>\n    </tr>\n  </thead>\n  <tbody>\n    <tr>\n      <th>0</th>\n      <td>7.0</td>\n      <td>0.27</td>\n      <td>0.36</td>\n      <td>20.7</td>\n      <td>0.045</td>\n      <td>45.0</td>\n      <td>170.0</td>\n      <td>1.0010</td>\n      <td>3.00</td>\n      <td>0.45</td>\n      <td>8.8</td>\n      <td>6</td>\n      <td>white</td>\n    </tr>\n    <tr>\n      <th>1</th>\n      <td>6.3</td>\n      <td>0.30</td>\n      <td>0.34</td>\n      <td>1.6</td>\n      <td>0.049</td>\n      <td>14.0</td>\n      <td>132.0</td>\n      <td>0.9940</td>\n      <td>3.30</td>\n      <td>0.49</td>\n      <td>9.5</td>\n      <td>6</td>\n      <td>white</td>\n    </tr>\n    <tr>\n      <th>2</th>\n      <td>8.1</td>\n      <td>0.28</td>\n      <td>0.40</td>\n      <td>6.9</td>\n      <td>0.050</td>\n      <td>30.0</td>\n      <td>97.0</td>\n      <td>0.9951</td>\n      <td>3.26</td>\n      <td>0.44</td>\n      <td>10.1</td>\n      <td>6</td>\n      <td>white</td>\n    </tr>\n    <tr>\n      <th>3</th>\n      <td>7.2</td>\n      <td>0.23</td>\n      <td>0.32</td>\n      <td>8.5</td>\n      <td>0.058</td>\n      <td>47.0</td>\n      <td>186.0</td>\n      <td>0.9956</td>\n      <td>3.19</td>\n      <td>0.40</td>\n      <td>9.9</td>\n      <td>6</td>\n      <td>white</td>\n    </tr>\n    <tr>\n      <th>4</th>\n      <td>7.2</td>\n      <td>0.23</td>\n      <td>0.32</td>\n      <td>8.5</td>\n      <td>0.058</td>\n      <td>47.0</td>\n      <td>186.0</td>\n      <td>0.9956</td>\n      <td>3.19</td>\n      <td>0.40</td>\n      <td>9.9</td>\n      <td>6</td>\n      <td>white</td>\n    </tr>\n  </tbody>\n</table>\n</div>"
     },
     "execution_count": 5,
     "metadata": {},
     "output_type": "execute_result"
    }
   ],
   "source": [
    "# Merge the red and the white wine dataframes\n",
    "wine_df = pd.concat([white_wine, red_wine], axis=0)\n",
    "\n",
    "# Print the first 5 rows of the dataframe\n",
    "wine_df.head()"
   ],
   "metadata": {
    "collapsed": false,
    "pycharm": {
     "name": "#%%\n"
    }
   }
  },
  {
   "cell_type": "markdown",
   "source": [
    "### Dataset Description\n",
    "\n",
    "\n",
    "### Basic Info\n",
    "\n",
    "\n",
    "- Number of Features: 12\n",
    "- The target is the quality of the wine on a 0-10 scale (integers between 0 and 10).\n",
    "\n",
    "We inspect the following aspects:\n",
    "- `df#columns`: The column labels of the DataFrame.\n",
    "- `df#describe`: Descriptive statistics include those that summarize the central tendency, dispersion, and shape of a dataset’s distribution, excluding NaN values.\n",
    "- `df#info`: Print a  summary including the index dtype and columns, non-null values, and memory usage.\n",
    "- `df#shape`: Return a tuple representing the dimensionality of the DataFrame.\n",
    "- `df#value_counts`: Return a Series containing counts of unique rows in the DataFrame.\n"
   ],
   "metadata": {
    "collapsed": false,
    "pycharm": {
     "name": "#%% md\n"
    }
   }
  },
  {
   "cell_type": "code",
   "execution_count": 6,
   "outputs": [
    {
     "data": {
      "text/plain": "(6497, 13)"
     },
     "execution_count": 6,
     "metadata": {},
     "output_type": "execute_result"
    }
   ],
   "source": [
    "# Return a tuple representing the dimensionality of the DataFrame\n",
    "wine_df.shape"
   ],
   "metadata": {
    "collapsed": false,
    "pycharm": {
     "name": "#%%\n"
    }
   }
  },
  {
   "cell_type": "code",
   "execution_count": 7,
   "outputs": [
    {
     "data": {
      "text/plain": "Index(['fixed acidity', 'volatile acidity', 'citric acid', 'residual sugar',\n       'chlorides', 'free sulfur dioxide', 'total sulfur dioxide', 'density',\n       'pH', 'sulphates', 'alcohol', 'quality', 'color'],\n      dtype='object')"
     },
     "execution_count": 7,
     "metadata": {},
     "output_type": "execute_result"
    }
   ],
   "source": [
    "#  The column labels of the DataFrame.\n",
    "wine_df.columns"
   ],
   "metadata": {
    "collapsed": false,
    "pycharm": {
     "name": "#%%\n"
    }
   }
  },
  {
   "cell_type": "code",
   "execution_count": 8,
   "outputs": [
    {
     "data": {
      "text/plain": "        fixed acidity  volatile acidity  citric acid  residual sugar  \\\ncount     6497.000000       6497.000000  6497.000000     6497.000000   \nunique            NaN               NaN          NaN             NaN   \ntop               NaN               NaN          NaN             NaN   \nfreq              NaN               NaN          NaN             NaN   \nmean         7.215307          0.339666     0.318633        5.443235   \nstd          1.296434          0.164636     0.145318        4.757804   \nmin          3.800000          0.080000     0.000000        0.600000   \n25%          6.400000          0.230000     0.250000        1.800000   \n50%          7.000000          0.290000     0.310000        3.000000   \n75%          7.700000          0.400000     0.390000        8.100000   \nmax         15.900000          1.580000     1.660000       65.800000   \n\n          chlorides  free sulfur dioxide  total sulfur dioxide      density  \\\ncount   6497.000000          6497.000000           6497.000000  6497.000000   \nunique          NaN                  NaN                   NaN          NaN   \ntop             NaN                  NaN                   NaN          NaN   \nfreq            NaN                  NaN                   NaN          NaN   \nmean       0.056034            30.525319            115.744574     0.994697   \nstd        0.035034            17.749400             56.521855     0.002999   \nmin        0.009000             1.000000              6.000000     0.987110   \n25%        0.038000            17.000000             77.000000     0.992340   \n50%        0.047000            29.000000            118.000000     0.994890   \n75%        0.065000            41.000000            156.000000     0.996990   \nmax        0.611000           289.000000            440.000000     1.038980   \n\n                 pH    sulphates      alcohol      quality  color  \ncount   6497.000000  6497.000000  6497.000000  6497.000000   6497  \nunique          NaN          NaN          NaN          NaN      2  \ntop             NaN          NaN          NaN          NaN  white  \nfreq            NaN          NaN          NaN          NaN   4898  \nmean       3.218501     0.531268    10.491801     5.818378    NaN  \nstd        0.160787     0.148806     1.192712     0.873255    NaN  \nmin        2.720000     0.220000     8.000000     3.000000    NaN  \n25%        3.110000     0.430000     9.500000     5.000000    NaN  \n50%        3.210000     0.510000    10.300000     6.000000    NaN  \n75%        3.320000     0.600000    11.300000     6.000000    NaN  \nmax        4.010000     2.000000    14.900000     9.000000    NaN  ",
      "text/html": "<div>\n<style scoped>\n    .dataframe tbody tr th:only-of-type {\n        vertical-align: middle;\n    }\n\n    .dataframe tbody tr th {\n        vertical-align: top;\n    }\n\n    .dataframe thead th {\n        text-align: right;\n    }\n</style>\n<table border=\"1\" class=\"dataframe\">\n  <thead>\n    <tr style=\"text-align: right;\">\n      <th></th>\n      <th>fixed acidity</th>\n      <th>volatile acidity</th>\n      <th>citric acid</th>\n      <th>residual sugar</th>\n      <th>chlorides</th>\n      <th>free sulfur dioxide</th>\n      <th>total sulfur dioxide</th>\n      <th>density</th>\n      <th>pH</th>\n      <th>sulphates</th>\n      <th>alcohol</th>\n      <th>quality</th>\n      <th>color</th>\n    </tr>\n  </thead>\n  <tbody>\n    <tr>\n      <th>count</th>\n      <td>6497.000000</td>\n      <td>6497.000000</td>\n      <td>6497.000000</td>\n      <td>6497.000000</td>\n      <td>6497.000000</td>\n      <td>6497.000000</td>\n      <td>6497.000000</td>\n      <td>6497.000000</td>\n      <td>6497.000000</td>\n      <td>6497.000000</td>\n      <td>6497.000000</td>\n      <td>6497.000000</td>\n      <td>6497</td>\n    </tr>\n    <tr>\n      <th>unique</th>\n      <td>NaN</td>\n      <td>NaN</td>\n      <td>NaN</td>\n      <td>NaN</td>\n      <td>NaN</td>\n      <td>NaN</td>\n      <td>NaN</td>\n      <td>NaN</td>\n      <td>NaN</td>\n      <td>NaN</td>\n      <td>NaN</td>\n      <td>NaN</td>\n      <td>2</td>\n    </tr>\n    <tr>\n      <th>top</th>\n      <td>NaN</td>\n      <td>NaN</td>\n      <td>NaN</td>\n      <td>NaN</td>\n      <td>NaN</td>\n      <td>NaN</td>\n      <td>NaN</td>\n      <td>NaN</td>\n      <td>NaN</td>\n      <td>NaN</td>\n      <td>NaN</td>\n      <td>NaN</td>\n      <td>white</td>\n    </tr>\n    <tr>\n      <th>freq</th>\n      <td>NaN</td>\n      <td>NaN</td>\n      <td>NaN</td>\n      <td>NaN</td>\n      <td>NaN</td>\n      <td>NaN</td>\n      <td>NaN</td>\n      <td>NaN</td>\n      <td>NaN</td>\n      <td>NaN</td>\n      <td>NaN</td>\n      <td>NaN</td>\n      <td>4898</td>\n    </tr>\n    <tr>\n      <th>mean</th>\n      <td>7.215307</td>\n      <td>0.339666</td>\n      <td>0.318633</td>\n      <td>5.443235</td>\n      <td>0.056034</td>\n      <td>30.525319</td>\n      <td>115.744574</td>\n      <td>0.994697</td>\n      <td>3.218501</td>\n      <td>0.531268</td>\n      <td>10.491801</td>\n      <td>5.818378</td>\n      <td>NaN</td>\n    </tr>\n    <tr>\n      <th>std</th>\n      <td>1.296434</td>\n      <td>0.164636</td>\n      <td>0.145318</td>\n      <td>4.757804</td>\n      <td>0.035034</td>\n      <td>17.749400</td>\n      <td>56.521855</td>\n      <td>0.002999</td>\n      <td>0.160787</td>\n      <td>0.148806</td>\n      <td>1.192712</td>\n      <td>0.873255</td>\n      <td>NaN</td>\n    </tr>\n    <tr>\n      <th>min</th>\n      <td>3.800000</td>\n      <td>0.080000</td>\n      <td>0.000000</td>\n      <td>0.600000</td>\n      <td>0.009000</td>\n      <td>1.000000</td>\n      <td>6.000000</td>\n      <td>0.987110</td>\n      <td>2.720000</td>\n      <td>0.220000</td>\n      <td>8.000000</td>\n      <td>3.000000</td>\n      <td>NaN</td>\n    </tr>\n    <tr>\n      <th>25%</th>\n      <td>6.400000</td>\n      <td>0.230000</td>\n      <td>0.250000</td>\n      <td>1.800000</td>\n      <td>0.038000</td>\n      <td>17.000000</td>\n      <td>77.000000</td>\n      <td>0.992340</td>\n      <td>3.110000</td>\n      <td>0.430000</td>\n      <td>9.500000</td>\n      <td>5.000000</td>\n      <td>NaN</td>\n    </tr>\n    <tr>\n      <th>50%</th>\n      <td>7.000000</td>\n      <td>0.290000</td>\n      <td>0.310000</td>\n      <td>3.000000</td>\n      <td>0.047000</td>\n      <td>29.000000</td>\n      <td>118.000000</td>\n      <td>0.994890</td>\n      <td>3.210000</td>\n      <td>0.510000</td>\n      <td>10.300000</td>\n      <td>6.000000</td>\n      <td>NaN</td>\n    </tr>\n    <tr>\n      <th>75%</th>\n      <td>7.700000</td>\n      <td>0.400000</td>\n      <td>0.390000</td>\n      <td>8.100000</td>\n      <td>0.065000</td>\n      <td>41.000000</td>\n      <td>156.000000</td>\n      <td>0.996990</td>\n      <td>3.320000</td>\n      <td>0.600000</td>\n      <td>11.300000</td>\n      <td>6.000000</td>\n      <td>NaN</td>\n    </tr>\n    <tr>\n      <th>max</th>\n      <td>15.900000</td>\n      <td>1.580000</td>\n      <td>1.660000</td>\n      <td>65.800000</td>\n      <td>0.611000</td>\n      <td>289.000000</td>\n      <td>440.000000</td>\n      <td>1.038980</td>\n      <td>4.010000</td>\n      <td>2.000000</td>\n      <td>14.900000</td>\n      <td>9.000000</td>\n      <td>NaN</td>\n    </tr>\n  </tbody>\n</table>\n</div>"
     },
     "execution_count": 8,
     "metadata": {},
     "output_type": "execute_result"
    }
   ],
   "source": [
    "#  Descriptive statistics include those that summarize the central tendency, dispersion, and shape of a dataset’s distribution, excluding NaN values.\n",
    "wine_df.describe(include=\"all\")"
   ],
   "metadata": {
    "collapsed": false,
    "pycharm": {
     "name": "#%%\n"
    }
   }
  },
  {
   "cell_type": "markdown",
   "source": [
    "Given that the target of the model prediction is the \"quality\" of the wine let's have a look at its distribution\n",
    "\n",
    "where `df#value_counts` return a Series containing counts of unique rows in the DataFrame.\n"
   ],
   "metadata": {
    "collapsed": false,
    "pycharm": {
     "name": "#%% md\n"
    }
   }
  },
  {
   "cell_type": "code",
   "execution_count": 9,
   "outputs": [
    {
     "data": {
      "text/plain": "6    2836\n5    2138\n7    1079\n4     216\n8     193\n3      30\n9       5\nName: quality, dtype: int64"
     },
     "execution_count": 9,
     "metadata": {},
     "output_type": "execute_result"
    }
   ],
   "source": [
    "# Return a Series containing counts of unique rows in the DataFrame.\n",
    "wine_df[\"quality\"].value_counts()"
   ],
   "metadata": {
    "collapsed": false,
    "pycharm": {
     "name": "#%%\n"
    }
   }
  },
  {
   "cell_type": "markdown",
   "source": [
    "### Data Validation\n",
    "\n",
    "\n",
    "\n",
    "Data validation is an important step as data quality is important to the training of the models.\n",
    "\n",
    "Ideally, we should use a dataset with no missing or incorrect values, i.e., outliers.\n",
    "\n",
    "#### Fix Rows with Nulls\n",
    "\n",
    "From the results of `#info`, we can see that there are no nulls, and we don't need to fix anything.\n",
    "\n",
    "\n"
   ],
   "metadata": {
    "collapsed": false,
    "pycharm": {
     "name": "#%% md\n"
    }
   }
  },
  {
   "cell_type": "code",
   "execution_count": 10,
   "outputs": [
    {
     "name": "stdout",
     "output_type": "stream",
     "text": [
      "<class 'pandas.core.frame.DataFrame'>\n",
      "Int64Index: 6497 entries, 0 to 1598\n",
      "Data columns (total 13 columns):\n",
      " #   Column                Non-Null Count  Dtype  \n",
      "---  ------                --------------  -----  \n",
      " 0   fixed acidity         6497 non-null   float64\n",
      " 1   volatile acidity      6497 non-null   float64\n",
      " 2   citric acid           6497 non-null   float64\n",
      " 3   residual sugar        6497 non-null   float64\n",
      " 4   chlorides             6497 non-null   float64\n",
      " 5   free sulfur dioxide   6497 non-null   float64\n",
      " 6   total sulfur dioxide  6497 non-null   float64\n",
      " 7   density               6497 non-null   float64\n",
      " 8   pH                    6497 non-null   float64\n",
      " 9   sulphates             6497 non-null   float64\n",
      " 10  alcohol               6497 non-null   float64\n",
      " 11  quality               6497 non-null   int64  \n",
      " 12  color                 6497 non-null   object \n",
      "dtypes: float64(11), int64(1), object(1)\n",
      "memory usage: 710.6+ KB\n"
     ]
    }
   ],
   "source": [
    "#  Print a  summary including the index dtype and columns, non-null values, and memory usage.\n",
    "wine_df.info()"
   ],
   "metadata": {
    "collapsed": false,
    "pycharm": {
     "name": "#%%\n"
    }
   }
  },
  {
   "cell_type": "markdown",
   "source": [
    "Alternatively, we can also use #isnull to find nulls"
   ],
   "metadata": {
    "collapsed": false,
    "pycharm": {
     "name": "#%% md\n"
    }
   }
  },
  {
   "cell_type": "code",
   "execution_count": 11,
   "outputs": [
    {
     "data": {
      "text/plain": "fixed acidity           0\nvolatile acidity        0\ncitric acid             0\nresidual sugar          0\nchlorides               0\nfree sulfur dioxide     0\ntotal sulfur dioxide    0\ndensity                 0\npH                      0\nsulphates               0\nalcohol                 0\nquality                 0\ncolor                   0\ndtype: int64"
     },
     "execution_count": 11,
     "metadata": {},
     "output_type": "execute_result"
    }
   ],
   "source": [
    "# Check if there are empty rows\n",
    "\n",
    "wine_df.isnull().sum()"
   ],
   "metadata": {
    "collapsed": false,
    "pycharm": {
     "name": "#%%\n"
    }
   }
  },
  {
   "cell_type": "markdown",
   "source": [
    "#### Naive Solution to Find Outliers\n",
    "\n",
    "You can use Seaborn’s displot() function to visualize the data distribution, and spot the data that are unlikely to be correct."
   ],
   "metadata": {
    "collapsed": false,
    "pycharm": {
     "name": "#%% md\n"
    }
   }
  },
  {
   "cell_type": "code",
   "execution_count": 12,
   "outputs": [
    {
     "data": {
      "text/plain": "<Figure size 720x576 with 0 Axes>"
     },
     "metadata": {},
     "output_type": "display_data"
    },
    {
     "data": {
      "text/plain": "<Figure size 360x360 with 1 Axes>",
      "image/png": "[encoded data removed]"
     },
     "metadata": {},
     "output_type": "display_data"
    }
   ],
   "source": [
    "plt.figure(figsize=(10, 8))\n",
    "pH_plot = sns.displot(data=wine_df[\"pH\"]).set(title=\"distribution of pH\", xlabel=\"pH\", ylabel = \"count\")"
   ],
   "metadata": {
    "collapsed": false,
    "pycharm": {
     "name": "#%%\n"
    }
   }
  },
  {
   "cell_type": "markdown",
   "source": [],
   "metadata": {
    "collapsed": false,
    "pycharm": {
     "name": "#%% md\n"
    }
   }
  },
  {
   "cell_type": "markdown",
   "source": [
    "#### Check Data Correctness\n",
    "\n",
    "In this dataset, the wine whose pH level is larger than `3.9` or smaller than `1.0` looks like outliers.\n",
    "\n",
    "In practice, we need to check the correctness of the outliers (usually with the help of data owner with expert domain knowledge) and exclude them if necessary.\n",
    "\n",
    "However, we cannot validate if it is correct or not with the wine data owner, so we will keep these rows.\n"
   ],
   "metadata": {
    "collapsed": false,
    "pycharm": {
     "name": "#%% md\n"
    }
   }
  },
  {
   "cell_type": "markdown",
   "source": [
    "### Data Visualization\n",
    "\n",
    "#### Motivation\n",
    "\n",
    "We can use data visualization to present the data facts in an easy-to-understand form while telling a story and leading the viewers to an inevitable conclusion.\n",
    "\n",
    "\n",
    "#### Useful Functions\n",
    "\n",
    "Here I am showing some types of useful plots.\n",
    "\n",
    "- `sns#displot`: Plot of data distribution.\n",
    "- `sns#hisplot`: Plot of data histogram.\n",
    "- `df.plot#pie`: A circular statistical graphic, which is divided into slices to illustrate numerical proportion\n"
   ],
   "metadata": {
    "collapsed": false,
    "pycharm": {
     "name": "#%% md\n"
    }
   }
  },
  {
   "cell_type": "code",
   "execution_count": 13,
   "outputs": [
    {
     "data": {
      "text/plain": "[Text(0.5, 1.0, 'distribution of quality'),\n Text(0.5, 0, 'quality'),\n Text(0, 0.5, 'count')]"
     },
     "execution_count": 13,
     "metadata": {},
     "output_type": "execute_result"
    },
    {
     "data": {
      "text/plain": "<Figure size 720x576 with 1 Axes>",
      "image/png": "[encoded data removed]"
     },
     "metadata": {},
     "output_type": "display_data"
    }
   ],
   "source": [
    "plt.figure(figsize=(10, 8))\n",
    "sns.histplot(data=wine_df[\"quality\"]).set(title=\"distribution of quality\", xlabel=\"quality\", ylabel = \"count\")"
   ],
   "metadata": {
    "collapsed": false,
    "pycharm": {
     "name": "#%%\n"
    }
   }
  },
  {
   "cell_type": "code",
   "execution_count": 14,
   "outputs": [
    {
     "data": {
      "text/plain": "<seaborn.axisgrid.FacetGrid at 0x140bd02d0a0>"
     },
     "execution_count": 14,
     "metadata": {},
     "output_type": "execute_result"
    },
    {
     "data": {
      "text/plain": "<Figure size 720x576 with 0 Axes>"
     },
     "metadata": {},
     "output_type": "display_data"
    },
    {
     "data": {
      "text/plain": "<Figure size 360x360 with 1 Axes>",
      "image/png": "[encoded data removed]"
     },
     "metadata": {},
     "output_type": "display_data"
    }
   ],
   "source": [
    "figure = plt.figure(figsize=(10, 8))\n",
    "sns.displot(data=wine_df[\"density\"]).set(title=\"distribution of density\", xlabel=\"density\", ylabel = \"count\")"
   ],
   "metadata": {
    "collapsed": false,
    "pycharm": {
     "name": "#%%\n"
    }
   }
  },
  {
   "cell_type": "code",
   "execution_count": 15,
   "outputs": [
    {
     "data": {
      "text/plain": "[Text(0.5, 1.0, 'percentage of color')]"
     },
     "execution_count": 15,
     "metadata": {},
     "output_type": "execute_result"
    },
    {
     "data": {
      "text/plain": "<Figure size 720x576 with 1 Axes>",
      "image/png": "[encoded data removed]"
     },
     "metadata": {},
     "output_type": "display_data"
    }
   ],
   "source": [
    "plt.figure(figsize=(10, 8))\n",
    "wine_df[\"color\"].value_counts().plot(kind=\"pie\", y=\"colour\").set(title=\"percentage of color\")"
   ],
   "metadata": {
    "collapsed": false,
    "pycharm": {
     "name": "#%%\n"
    }
   }
  },
  {
   "cell_type": "markdown",
   "source": [
    "### Correlation / Bivariate Analysis\n",
    "\n",
    "\n",
    "Correlations in data show the mutual relationships or connections between two or more variables.\n",
    "We can use a heatmap to visualize the correlation matrix.\n",
    "\n",
    "#### Useful functions\n",
    "- `df#corr`: Compute pairwise correlation of columns, excluding NA/null values.\n",
    "- `sns#heatmap`: Plot rectangular data as a color-encoded matrix - we can use this to visualize Correlation\n",
    "\n",
    "####    Results\n",
    "\n",
    "|         | Correlation | Feature |\n",
    "|---------|---|---|\n",
    "| Abs Max | 0.44 | Alcohol |\n",
    "| Abs Min | 0.003 | Sulphates  |\n",
    "\n",
    "\n",
    "\n",
    "\n",
    "\n"
   ],
   "metadata": {
    "collapsed": false,
    "pycharm": {
     "name": "#%% md\n"
    }
   }
  },
  {
   "cell_type": "code",
   "execution_count": 16,
   "outputs": [
    {
     "data": {
      "text/plain": "<Figure size 1080x1008 with 2 Axes>",
      "image/png": "[encoded data removed]"
     },
     "metadata": {},
     "output_type": "display_data"
    }
   ],
   "source": [
    "# Compute the abs correlation between the variables\n",
    "\n",
    "correlation_matrix = wine_df.corr().abs()\n",
    "\n",
    "# Use a heatmap to visualize the correlation matrix.\n",
    "\n",
    "figure = plt.figure(figsize=(15, 14))\n",
    "sns.heatmap(correlation_matrix, annot=True, cmap=plt.cm.Blues).set(title=\"correlation heat map\")\n",
    "\n",
    "# Rotate labels on the X-axis by 45 degrees for readability\n",
    "\n",
    "plt.xticks(rotation=45)\n",
    "plt.show()"
   ],
   "metadata": {
    "collapsed": false,
    "pycharm": {
     "name": "#%%\n"
    }
   }
  },
  {
   "cell_type": "markdown",
   "source": [
    "### Bivariate Analysis\n",
    "\n",
    "We can also visualize the wine quality as explained by the value of a feature.\n",
    "\n",
    "From the heat map / correlation matrix, we know that the most related feature is the `alcohol`\n",
    "Here's how the most relevant feature, alcohol, is related to the wine quality.\n",
    "\n"
   ],
   "metadata": {
    "collapsed": false,
    "pycharm": {
     "name": "#%% md\n"
    }
   }
  },
  {
   "cell_type": "code",
   "execution_count": 17,
   "outputs": [
    {
     "data": {
      "text/plain": "[Text(0.5, 1.0, 'the wine quality as explained by the value of alcohol')]"
     },
     "execution_count": 17,
     "metadata": {},
     "output_type": "execute_result"
    },
    {
     "data": {
      "text/plain": "<Figure size 720x576 with 1 Axes>",
      "image/png": "[encoded data removed]"
     },
     "metadata": {},
     "output_type": "display_data"
    }
   ],
   "source": [
    "plt.figure(figsize=(10, 8))\n",
    "sns.boxplot(x=\"quality\", y=\"alcohol\", data=wine_df, color=\"C0\").set(title=\"the wine quality as explained by the value of alcohol\")\n"
   ],
   "metadata": {
    "collapsed": false,
    "pycharm": {
     "name": "#%%\n"
    }
   }
  },
  {
   "cell_type": "markdown",
   "source": [],
   "metadata": {
    "collapsed": false,
    "pycharm": {
     "name": "#%% md\n"
    }
   }
  },
  {
   "cell_type": "markdown",
   "source": [
    "## Step 2:  Data Pre-processing\n",
    "\n",
    "Data pre-processing is very important in ML projects as the scale / correctness etc. would affect the quality of the trained model.\n",
    "\n",
    "We follow these steps:\n",
    "\n",
    "- Data Categorization\n",
    "- Data Scaling\n",
    "- Prepare Training and Testing Set\n",
    "- Data Balancing\n",
    "\n",
    "\n",
    "-------------------------------------------\n",
    "\n",
    "### Data Categorization\n",
    "\n",
    "Some data are not quantitative and need to categorize  them\n",
    "Like \"red\" and \"white\" are categorical - \"red\" is not larger or smaller than \"white.\"\n",
    "Here we use one-hot encoding for this purpose.\n",
    "For example, for a category with \"red\" and \"white\", these two labels will be encoded as `[1, 0]` and `[0, 1]` respectively.\n"
   ],
   "metadata": {
    "collapsed": false,
    "pycharm": {
     "name": "#%% md\n"
    }
   }
  },
  {
   "cell_type": "code",
   "execution_count": 18,
   "outputs": [],
   "source": [
    "# One-hot encode color\n",
    "\n",
    "wine_df = pd.get_dummies(wine_df, columns=[\"color\"])"
   ],
   "metadata": {
    "collapsed": false,
    "pycharm": {
     "name": "#%%\n"
    }
   }
  },
  {
   "cell_type": "markdown",
   "source": [
    "In this project, we simplified our target to know if the wine is good or bad instead of the score of the wine.\n",
    "\n",
    "We define wine with higher quality than 5 as \"good\" by convention.\n"
   ],
   "metadata": {
    "collapsed": false,
    "pycharm": {
     "name": "#%% md\n"
    }
   }
  },
  {
   "cell_type": "code",
   "execution_count": 19,
   "outputs": [],
   "source": [
    "# Categorization of quality\n",
    "\n",
    "wine_df[\"quality_bool\"] = np.where(wine_df[\"quality\"] <= 5, 0, 1).astype(bool)\n",
    "wine_df = wine_df.drop([\"quality\"], axis=1)"
   ],
   "metadata": {
    "collapsed": false,
    "pycharm": {
     "name": "#%%\n"
    }
   }
  },
  {
   "cell_type": "code",
   "execution_count": 20,
   "outputs": [
    {
     "data": {
      "text/plain": "True     4113\nFalse    2384\nName: quality_bool, dtype: int64"
     },
     "execution_count": 20,
     "metadata": {},
     "output_type": "execute_result"
    }
   ],
   "source": [
    "wine_df[\"quality_bool\"].value_counts()"
   ],
   "metadata": {
    "collapsed": false,
    "pycharm": {
     "name": "#%%\n"
    }
   }
  },
  {
   "cell_type": "markdown",
   "source": [
    "### Data Scaling\n",
    "\n",
    "Scaling means changing the range of values but without changing the shape of the distribution.\n",
    "\n",
    "#### Why\n",
    "\n",
    "Algorithms converge faster when features are relatively smaller or closer to normal distribution.\n",
    "\n",
    "\n",
    "\n",
    "The standard score of sample `x` is calculated as:\n",
    "\n",
    "$$\n",
    "z = (x - u) / s,\n",
    "$$\n",
    "\n",
    "where `u` is the mean of the training samples or zero if `with_mean=False`, and `s` is the standard deviation of the training samples or one if `with_std=False`.\n",
    "\n",
    "\n"
   ],
   "metadata": {
    "collapsed": false,
    "pycharm": {
     "name": "#%% md\n"
    }
   }
  },
  {
   "cell_type": "code",
   "execution_count": 21,
   "outputs": [],
   "source": [
    "# The scaler is for numeric features.\n",
    "# It standardizes features by removing the mean and scaling to unit variance.\n",
    "\n",
    "scaler = StandardScaler()\n",
    "\n",
    "# Get numeric data\n",
    "\n",
    "num_d = wine_df.select_dtypes(exclude=[\"category\", \"bool\"])\n",
    "\n",
    "# update the cols with their normalized values\n",
    "\n",
    "wine_df[num_d.columns] = scaler.fit_transform(num_d)\n"
   ],
   "metadata": {
    "collapsed": false,
    "pycharm": {
     "name": "#%%\n"
    }
   }
  },
  {
   "cell_type": "code",
   "execution_count": 22,
   "outputs": [
    {
     "data": {
      "text/plain": "<bound method NDFrame.head of       fixed acidity  volatile acidity  citric acid  residual sugar  chlorides  \\\n0         -0.166089         -0.423183     0.284686        3.206929  -0.314975   \n1         -0.706073         -0.240949     0.147046       -0.807837  -0.200790   \n2          0.682458         -0.362438     0.559966        0.306208  -0.172244   \n3         -0.011808         -0.666161     0.009406        0.642523   0.056126   \n4         -0.011808         -0.666161     0.009406        0.642523   0.056126   \n...             ...               ...          ...             ...        ...   \n1594      -0.783214          1.581387    -1.642273       -0.723758   0.969605   \n1595      -1.014636          1.277665    -1.504633       -0.681719   0.170311   \n1596      -0.706073          1.034686    -1.298173       -0.660699   0.569958   \n1597      -1.014636          1.854738    -1.366993       -0.723758   0.541412   \n1598      -0.937495         -0.180205     1.041706       -0.387443   0.313042   \n\n      free sulfur dioxide  total sulfur dioxide   density        pH  \\\n0                0.815565              0.959976  2.102214 -1.359049   \n1               -0.931107              0.287618 -0.232332  0.506915   \n2               -0.029599             -0.331660  0.134525  0.258120   \n3                0.928254              1.243074  0.301278 -0.177272   \n4                0.928254              1.243074  0.301278 -0.177272   \n...                   ...                   ...       ...       ...   \n1594             0.083090             -1.269422  0.067824  1.439897   \n1595             0.477500             -1.145567  0.141195  1.875288   \n1596            -0.085943             -1.340197  0.347969  1.253300   \n1597             0.083090             -1.269422  0.257923  2.186282   \n1598            -0.705730             -1.304809  0.264593  1.066704   \n\n      sulphates   alcohol  color_red  color_white  quality_bool  \n0     -0.546178 -1.418558  -0.571367     0.571367          True  \n1     -0.277351 -0.831615  -0.571367     0.571367          True  \n2     -0.613385 -0.328521  -0.571367     0.571367          True  \n3     -0.882212 -0.496219  -0.571367     0.571367          True  \n4     -0.882212 -0.496219  -0.571367     0.571367          True  \n...         ...       ...        ...          ...           ...  \n1594   0.327510  0.006875   1.750190    -1.750190         False  \n1595   1.537233  0.593818   1.750190    -1.750190          True  \n1596   1.470026  0.426120   1.750190    -1.750190          True  \n1597   1.201199 -0.244672   1.750190    -1.750190         False  \n1598   0.865165  0.426120   1.750190    -1.750190          True  \n\n[6497 rows x 14 columns]>"
     },
     "execution_count": 22,
     "metadata": {},
     "output_type": "execute_result"
    }
   ],
   "source": [
    "wine_df.head"
   ],
   "metadata": {
    "collapsed": false,
    "pycharm": {
     "name": "#%%\n"
    }
   }
  },
  {
   "cell_type": "markdown",
   "source": [
    "### Create Training and Testing Set\n",
    "\n",
    "\n",
    "\n",
    "Learning the parameters of a prediction function and testing it on the same data is a methodological mistake: a model that would memorize the labels of the samples that it has just seen would have a perfect score but fail to predict anything useful on yet-unseen data. This situation is called overfitting.\n",
    "\n",
    "We can hold out part of the available data as a test set to avoid it.\n"
   ],
   "metadata": {
    "collapsed": false,
    "pycharm": {
     "name": "#%% md\n"
    }
   }
  },
  {
   "cell_type": "code",
   "execution_count": 23,
   "outputs": [
    {
     "data": {
      "text/plain": "13"
     },
     "execution_count": 23,
     "metadata": {},
     "output_type": "execute_result"
    }
   ],
   "source": [
    "output_index = len(wine_df.columns) - 1 # the last column is the output\n",
    "output_index"
   ],
   "metadata": {
    "collapsed": false,
    "pycharm": {
     "name": "#%%\n"
    }
   }
  },
  {
   "cell_type": "code",
   "execution_count": 24,
   "outputs": [],
   "source": [
    "# Dividing the dataset into features and output\n",
    "\n",
    "train_data, test_data = train_test_split(wine_df, test_size=0.25, random_state=520)"
   ],
   "metadata": {
    "collapsed": false,
    "pycharm": {
     "name": "#%%\n"
    }
   }
  },
  {
   "cell_type": "markdown",
   "source": [
    "### Data Balancing\n",
    "\n",
    "One of the rules in machine learning is that it's important to balance out the dataset or at least get it close to balancing it.\n",
    "\n",
    "#### Why\n",
    "The main reason is to prioritize each class equally to avoid overfitting.\n",
    "\n",
    "#### Note\n",
    "\n",
    "We should perform data balancing after splitting the dataset to avoid data leakage on the label.\n"
   ],
   "metadata": {
    "collapsed": false,
    "pycharm": {
     "name": "#%% md\n"
    }
   }
  },
  {
   "cell_type": "code",
   "execution_count": 25,
   "outputs": [
    {
     "data": {
      "text/plain": "True     3094\nFalse    1778\nName: quality_bool, dtype: int64"
     },
     "execution_count": 25,
     "metadata": {},
     "output_type": "execute_result"
    }
   ],
   "source": [
    "quality_map = train_data.quality_bool.value_counts()\n",
    "quality_map"
   ],
   "metadata": {
    "collapsed": false,
    "pycharm": {
     "name": "#%%\n"
    }
   }
  },
  {
   "cell_type": "markdown",
   "source": [
    "This dataset is unbalanced as 63% of the data are for good wine."
   ],
   "metadata": {
    "collapsed": false,
    "pycharm": {
     "name": "#%% md\n"
    }
   }
  },
  {
   "cell_type": "code",
   "execution_count": 26,
   "outputs": [
    {
     "data": {
      "text/plain": "1778"
     },
     "execution_count": 26,
     "metadata": {},
     "output_type": "execute_result"
    }
   ],
   "source": [
    "balanced_row_num = min(quality_map.get(False), quality_map.get(True))\n",
    "balanced_row_num"
   ],
   "metadata": {
    "collapsed": false,
    "pycharm": {
     "name": "#%%\n"
    }
   }
  },
  {
   "cell_type": "markdown",
   "source": [
    "Make sure that the rows of good / bad wine are the same.\n"
   ],
   "metadata": {
    "collapsed": false,
    "pycharm": {
     "name": "#%% md\n"
    }
   }
  },
  {
   "cell_type": "code",
   "execution_count": 27,
   "outputs": [],
   "source": [
    "good_wine = train_data[train_data[\"quality_bool\"] == True].sample(balanced_row_num)\n",
    "bad_wine = train_data[train_data[\"quality_bool\"] == False].sample(balanced_row_num)\n",
    "\n",
    "train_data = pd.concat([good_wine, bad_wine], axis=0)"
   ],
   "metadata": {
    "collapsed": false,
    "pycharm": {
     "name": "#%%\n"
    }
   }
  },
  {
   "cell_type": "markdown",
   "source": [
    "The data is balanced now"
   ],
   "metadata": {
    "collapsed": false,
    "pycharm": {
     "name": "#%% md\n"
    }
   }
  },
  {
   "cell_type": "code",
   "execution_count": 28,
   "outputs": [
    {
     "data": {
      "text/plain": "True     1778\nFalse    1778\nName: quality_bool, dtype: int64"
     },
     "execution_count": 28,
     "metadata": {},
     "output_type": "execute_result"
    }
   ],
   "source": [
    "train_data[\"quality_bool\"].value_counts()\n"
   ],
   "metadata": {
    "collapsed": false,
    "pycharm": {
     "name": "#%%\n"
    }
   }
  },
  {
   "cell_type": "code",
   "execution_count": 29,
   "outputs": [
    {
     "name": "stdout",
     "output_type": "stream",
     "text": [
      "(3556, 13)\n",
      "(3556,)\n",
      "(1625, 13)\n",
      "(1625,)\n"
     ]
    }
   ],
   "source": [
    "features_train = train_data.iloc[:, :output_index]\n",
    "output_train = train_data.iloc[:, output_index]\n",
    "\n",
    "features_test = test_data.iloc[:, :output_index]\n",
    "output_test = test_data.iloc[:, output_index]\n",
    "\n",
    "# Determining the shapes of training and testing sets\n",
    "print(features_train.shape)\n",
    "print(output_train.shape)\n",
    "print(features_test.shape)\n",
    "print(output_test.shape)"
   ],
   "metadata": {
    "collapsed": false,
    "pycharm": {
     "name": "#%%\n"
    }
   }
  },
  {
   "cell_type": "markdown",
   "source": [
    "## Step 3: Model Training\n",
    "\n",
    "### Baselines\n",
    "\n",
    "#### Random Guess Baseline\n",
    "\n",
    "If we randomly guess if the wine is good / bad, our accuracy is 50%.\n",
    "\n",
    "#### Majority Voting Baseline\n",
    "\n",
    "If we always predict the majority label in the training set (before data balancing), we would get better accuracy than 50%, simply because the testing set is imbalanced (in the same way as the training set).\n",
    "\n",
    "In the testing set,  63% of the bottles are good wine, and hence the majority voting baseline is 63%.\n",
    "\n",
    "\n"
   ],
   "metadata": {
    "collapsed": false,
    "pycharm": {
     "name": "#%% md\n"
    }
   }
  },
  {
   "cell_type": "code",
   "execution_count": 30,
   "outputs": [],
   "source": [
    "random_guess_accuracy = 0.5  # 50%\n",
    "majority_vote_accuracy = 0.63  # 63%"
   ],
   "metadata": {
    "collapsed": false,
    "pycharm": {
     "name": "#%%\n"
    }
   }
  },
  {
   "cell_type": "markdown",
   "source": [
    "\n",
    "\n",
    "### Classic Machine Learning Classification Algorithms\n",
    "\n",
    "We can start the quality prediction from some classic Machine Learning  classification algorithms (See the wiki of the classifiers for more info)\n"
   ],
   "metadata": {
    "collapsed": false,
    "pycharm": {
     "name": "#%% md\n"
    }
   }
  },
  {
   "cell_type": "code",
   "execution_count": 31,
   "outputs": [],
   "source": [
    "# Note: NOT as the name suggested, LogisticRegression is a binary classification technique, not a regressor.\n",
    "\n",
    "# Common off-the-shelf sklearn classifiers\n",
    "classifiers = [LogisticRegression(), LinearSVC(), SVC(), KNeighborsClassifier(), RandomForestClassifier(),\n",
    "               DecisionTreeClassifier(), GradientBoostingClassifier(), GaussianNB(), SGDClassifier(),\n",
    "               GaussianProcessClassifier(), AdaBoostClassifier(), MLPClassifier()]\n",
    "\n",
    "model_names = [\"Logistic Regression\", \"Linear Support Vector Machine\", \"Support Vector Clustering\",\n",
    "               \"K-Nearest Neighbors\", \"Random Forest Classifier\",\n",
    "               \"Decision Tree Classifier\", \"Gradient Boosting Classifier\", \"Gaussian Naive Bayes\",\n",
    "               \"Stochastic Gradient Descent Classifier\",\n",
    "               \"Gaussian Process Classifier\", \"Ada Boost Classifier\", \"Multilayer Perceptron Classifier\",\n",
    "               \"Baseline: -- Random Guess --\", \"Baseline: -- Majority Vote Baseline --\"]\n",
    "\n"
   ],
   "metadata": {
    "collapsed": false,
    "pycharm": {
     "name": "#%%\n"
    }
   }
  },
  {
   "cell_type": "markdown",
   "source": [
    "### Accuracy & F1 Score\n",
    "\n",
    "\n",
    "#### Accuracy\n",
    "\n",
    "This function computes subset accuracy in multilabel classification: the set of labels predicted for a sample must match the corresponding labels in `y_true.`\n",
    "\n",
    "\n",
    "#### F1\n",
    "\n",
    "The F1 score can be interpreted as a harmonic mean of precision and recall, where an F1 score reaches its best value at 1 and the worst score at 0.\n",
    "\n",
    "The relative contribution of precision and recall to the F1 score are equal. The formula for the F1 score is:\n",
    "$$\n",
    "F_1 = 2 \\times (\\text{precision} \\times \\text{recall}) / (\\text{precision} + \\text{recall})\n",
    "$$\n",
    "\n",
    "------------------------------\n",
    "\n",
    "#### When to Use F1 Score vs. Accuracy\n",
    "\n",
    "There are pros and cons to using F1 score and accuracy.\n",
    "\n",
    "**Accuracy**:\n",
    "\n",
    "Pro: Easy to interpret. If we say that a model is 90% accurate, we know that it correctly classified 90% of observations.\n",
    "\n",
    "Con: Does not take into account how the data is distributed. For example, suppose 90% of all players do not get drafted into the NBA. If we have a model that simply predicts every player to not get drafted, the model would correctly predict the outcome for 90% of the players. This value seems high, but the model is actually unable to correctly predict any player who gets drafted.\n",
    "\n",
    "**F1 Score**:\n",
    "\n",
    "Pro: Takes into account how the data is distributed. For example, if the data is highly imbalanced (e.g. 90% of all players do not get drafted and 10% do get drafted) then F1 score will provide a better assessment of model performance.\n",
    "\n",
    "Con: Harder to interpret. The F1 score is a blend of the precision and recall of the model, which makes it a bit harder to interpret.\n",
    "\n",
    "**As a rule of thumb**:\n",
    "\n",
    "We often use accuracy when the classes are balanced and there is no major downside to predicting false negatives.\n",
    "\n",
    "We often use F1 score when the classes are imbalanced and there is a serious downside to predicting false negatives.\n",
    "\n",
    "For example, if we use a logistic regression model to predict whether or not someone has cancer, false negatives are really bad (e.g. predicting that someone does not have cancer when they actually do) so F1 score will penalize models that have too many false negatives more than accuracy will.\n",
    "\n"
   ],
   "metadata": {
    "collapsed": false,
    "pycharm": {
     "name": "#%% md\n"
    }
   }
  },
  {
   "cell_type": "code",
   "execution_count": 32,
   "outputs": [],
   "source": [
    "accuracy_scores = []\n",
    "f1_scores = []\n",
    "\n",
    "for model in range(len(classifiers)):\n",
    "    classifier = classifiers[model]\n",
    "    # Fit the model according to the given training data.\n",
    "    classifier.fit(features_train, output_train)\n",
    "\n",
    "    # Predict class labels for samples in the feature set.\n",
    "    predict = classifier.predict(features_test)\n",
    "\n",
    "    # Rounding to 3 Decimal places before adding to accuracy_scores / f1_scores\n",
    "    accuracy_scores.append(round(accuracy_score(predict, output_test), 3))\n",
    "    f1_scores.append(round(f1_score(predict, output_test), 3))\n",
    "\n",
    "# Add baselines\n",
    "f1_scores.append(random_guess_accuracy)\n",
    "accuracy_scores.append(random_guess_accuracy)\n",
    "\n",
    "f1_scores.append(majority_vote_accuracy)\n",
    "accuracy_scores.append(majority_vote_accuracy)\n",
    "\n",
    "# Summary\n",
    "model_accuracy = pd.DataFrame({\"Algo\": model_names, \"Accuracy\": accuracy_scores}).sort_values(by=[\"Accuracy\"])\n",
    "model_f1 = pd.DataFrame({\"Algo\": model_names, \"F1\": f1_scores}).sort_values(by=[\"F1\"])\n"
   ],
   "metadata": {
    "collapsed": false,
    "pycharm": {
     "name": "#%%\n"
    }
   }
  },
  {
   "cell_type": "code",
   "execution_count": 33,
   "outputs": [
    {
     "data": {
      "text/plain": "<Figure size 720x576 with 1 Axes>",
      "image/png": "[encoded data removed]"
     },
     "metadata": {},
     "output_type": "display_data"
    }
   ],
   "source": [
    "plt.figure(figsize=(10, 8))\n",
    "plt.xlim(0, 1)\n",
    "accuracy_plot = sns.barplot(y=\"Algo\", x=\"Accuracy\", data=model_accuracy)\n",
    "for i in accuracy_plot.containers:\n",
    "    accuracy_plot.bar_label(i, )"
   ],
   "metadata": {
    "collapsed": false,
    "pycharm": {
     "name": "#%%\n"
    }
   }
  },
  {
   "cell_type": "code",
   "execution_count": 34,
   "outputs": [
    {
     "data": {
      "text/plain": "<Figure size 720x576 with 1 Axes>",
      "image/png": "[encoded data removed]"
     },
     "metadata": {},
     "output_type": "display_data"
    }
   ],
   "source": [
    "# Compare performance of f1\n",
    "plt.figure(figsize=(10, 8))\n",
    "plt.xlim(0, 1)\n",
    "f1_plot = sns.barplot(y=\"Algo\", x=\"F1\", data=model_f1)\n",
    "for i in f1_plot.containers:\n",
    "    f1_plot.bar_label(i, )"
   ],
   "metadata": {
    "collapsed": false,
    "pycharm": {
     "name": "#%%\n"
    }
   }
  },
  {
   "cell_type": "markdown",
   "source": [
    "\n",
    "#### Results\n",
    "\n",
    "When we use the off-the-shelf models from sklean, most of the algorithms perform better than the baselines (except Gaussian Naive Bayes)\n",
    "\n",
    "The best algorithm for the task is the Random Forest Algorithm\n",
    "\n",
    "\n",
    "\n",
    "#### More about the Random Forest Algorithm\n",
    "\n",
    "\n",
    "Random forests or random decision forests are an ensemble learning method for classification, regression, and other tasks that operates by constructing a multitude of decision trees at training time. For classification tasks, the output of the random forest is the class selected by most trees.\n",
    "\n"
   ],
   "metadata": {
    "collapsed": false,
    "pycharm": {
     "name": "#%% md\n"
    }
   }
  },
  {
   "cell_type": "markdown",
   "source": [
    "### Model Parameter Tuning\n",
    "\n",
    "Model parameter tuning can further improve the current best algo `RandomForestClassifier`\n",
    "\n",
    "#### Random State\n",
    "\n",
    "The performance can be slightly different in each run, we can avoid it by using para `random_state`\n"
   ],
   "metadata": {
    "collapsed": false,
    "pycharm": {
     "name": "#%% md\n"
    }
   }
  },
  {
   "cell_type": "code",
   "execution_count": 35,
   "outputs": [
    {
     "name": "stdout",
     "output_type": "stream",
     "text": [
      "Training accuracy : 1.0\n",
      "Testing accuracy : 0.7913846153846154\n"
     ]
    }
   ],
   "source": [
    "default_random_forest_classifier = RandomForestClassifier(random_state = 520)\n",
    "default_random_forest_classifier.fit(features_train, output_train)\n",
    "\n",
    "# Calculating the training and testing accuracies\n",
    "print(\"Training accuracy :\", default_random_forest_classifier.score(features_train, output_train))\n",
    "print(\"Testing accuracy :\", default_random_forest_classifier.score(features_test, output_test))\n"
   ],
   "metadata": {
    "collapsed": false,
    "pycharm": {
     "name": "#%%\n"
    }
   }
  },
  {
   "cell_type": "markdown",
   "source": [
    "We will try adjusting the following set of hyperparameters:\n",
    "\n",
    "```python\n",
    "n_estimators = number of trees in the foreset\n",
    "max_features = max number of features considered for splitting a node\n",
    "max_depth = max number of levels in each decision tree\n",
    "```\n",
    "\n",
    "The current parameters of RandomForestClassifier are the default values:\n",
    "\n",
    "```python\n",
    " n_estimators: 10,\n",
    " max_features: auto,\n",
    " max_depth: None,\n",
    "```\n"
   ],
   "metadata": {
    "collapsed": false,
    "pycharm": {
     "name": "#%% md\n"
    }
   }
  },
  {
   "cell_type": "markdown",
   "source": [
    "#### Grid Search\n",
    "\n",
    "Grid search means exhaustively generating candidates from a grid of parameter values.\n",
    "Now, let's grid search for the best para.\n"
   ],
   "metadata": {
    "collapsed": false,
    "pycharm": {
     "name": "#%% md\n"
    }
   }
  },
  {
   "cell_type": "code",
   "execution_count": 36,
   "outputs": [],
   "source": [
    "# Finding the best parameters for the SVC model\n",
    "\n",
    "param = {\n",
    "    \"n_estimators\": [50, 100, 150],\n",
    "    \"max_features\": [1, 2, 3],\n",
    "    \"max_depth\": [10, 30, 50]\n",
    "}\n"
   ],
   "metadata": {
    "collapsed": false,
    "pycharm": {
     "name": "#%%\n"
    }
   }
  },
  {
   "cell_type": "markdown",
   "source": [
    "#### Cross Validation\n",
    "\n",
    " Cross-validation is a resampling method that uses different data portions to test and train a model on different iterations to avoid over fitting.\n",
    "\n",
    "In a prediction problem, a model is usually given a dataset of known data on which training is run (training dataset) and a dataset of unknown data (or first seen data) against which the model is tested (called the validation dataset or testing set).\n",
    "\n",
    "\n",
    "\n",
    "We will run 5 rounds as we passed in para `cv=5`\n",
    "\n",
    "During the grid search,     the parameters of the estimator used to apply these methods are optimized by a cross-validated search over parameter settings.\n"
   ],
   "metadata": {
    "collapsed": false,
    "pycharm": {
     "name": "#%% md\n"
    }
   }
  },
  {
   "cell_type": "code",
   "execution_count": 37,
   "outputs": [],
   "source": [
    "grid_random_forest = GridSearchCV(default_random_forest_classifier, param_grid=param, scoring=\"accuracy\", cv=5)"
   ],
   "metadata": {
    "collapsed": false,
    "pycharm": {
     "name": "#%%\n"
    }
   }
  },
  {
   "cell_type": "code",
   "execution_count": 38,
   "outputs": [
    {
     "data": {
      "text/plain": "GridSearchCV(cv=5, estimator=RandomForestClassifier(random_state=520),\n             param_grid={'max_depth': [10, 30, 50], 'max_features': [1, 2, 3],\n                         'n_estimators': [50, 100, 150]},\n             scoring='accuracy')"
     },
     "execution_count": 38,
     "metadata": {},
     "output_type": "execute_result"
    }
   ],
   "source": [
    "# This step takes quite a long time (around 20 min)\n",
    "\n",
    "grid_random_forest.fit(features_train, output_train)"
   ],
   "metadata": {
    "collapsed": false,
    "pycharm": {
     "name": "#%%\n"
    }
   }
  },
  {
   "cell_type": "code",
   "execution_count": 39,
   "outputs": [
    {
     "data": {
      "text/plain": "{'max_depth': 30, 'max_features': 1, 'n_estimators': 150}"
     },
     "execution_count": 39,
     "metadata": {},
     "output_type": "execute_result"
    }
   ],
   "source": [
    "# These are the parameters that have the best performance\n",
    "\n",
    "grid_random_forest.best_params_"
   ],
   "metadata": {
    "collapsed": false,
    "pycharm": {
     "name": "#%%\n"
    }
   }
  },
  {
   "cell_type": "code",
   "execution_count": 40,
   "outputs": [
    {
     "name": "stdout",
     "output_type": "stream",
     "text": [
      "Training accuracy : 1.0\n",
      "Testing accuracy : 0.796923076923077\n"
     ]
    }
   ],
   "source": [
    "# creating a new Random Forest Classifier model with these best parameters\n",
    "\n",
    "better_random_forest_classifier = RandomForestClassifier(n_estimators=150, max_features=2, max_depth=30, random_state = 520)\n",
    "better_random_forest_classifier.fit(features_train, output_train)\n",
    "\n",
    "# Calculating the training and testing accuracies\n",
    "print(\"Training accuracy :\", better_random_forest_classifier.score(features_train, output_train))\n",
    "print(\"Testing accuracy :\", better_random_forest_classifier.score(features_test, output_test))\n"
   ],
   "metadata": {
    "collapsed": false,
    "pycharm": {
     "name": "#%%\n"
    }
   }
  },
  {
   "cell_type": "markdown",
   "source": [],
   "metadata": {
    "collapsed": false,
    "pycharm": {
     "name": "#%% md\n"
    }
   }
  },
  {
   "cell_type": "markdown",
   "source": [
    "#### Parameter Tuning Results\n",
    "\n",
    "\n",
    "\n",
    "After parameter tuning, the performance of the  Random Forest Classifier model is improved\n",
    "\n",
    "\n",
    "\n"
   ],
   "metadata": {
    "collapsed": false,
    "pycharm": {
     "name": "#%% md\n"
    }
   }
  },
  {
   "cell_type": "code",
   "execution_count": 51,
   "outputs": [
    {
     "name": "stdout",
     "output_type": "stream",
     "text": [
      "Testing accuracy : 0.7913846153846154\n",
      "Testing accuracy : 0.796923076923077\n"
     ]
    }
   ],
   "source": [
    "print(\"Testing accuracy :\", default_random_forest_classifier.score(features_test, output_test))\n",
    "print(\"Testing accuracy :\", better_random_forest_classifier.score(features_test, output_test))"
   ],
   "metadata": {
    "collapsed": false,
    "pycharm": {
     "name": "#%%\n"
    }
   }
  },
  {
   "cell_type": "markdown",
   "source": [
    "# Step 4: Save and  Load Models\n",
    "\n",
    "After training a  model, it is desirable to have a way to persist the model for future use without having to retrain. "
   ],
   "metadata": {
    "collapsed": false,
    "pycharm": {
     "name": "#%% md\n"
    }
   }
  },
  {
   "cell_type": "code",
   "execution_count": 41,
   "outputs": [],
   "source": [
    "stored_model = pickle.dumps(default_random_forest_classifier)"
   ],
   "metadata": {
    "collapsed": false,
    "pycharm": {
     "name": "#%%\n"
    }
   }
  },
  {
   "cell_type": "code",
   "execution_count": 42,
   "outputs": [],
   "source": [
    "loaded_model = pickle.loads(stored_model)"
   ],
   "metadata": {
    "collapsed": false,
    "pycharm": {
     "name": "#%%\n"
    }
   }
  },
  {
   "cell_type": "code",
   "execution_count": 43,
   "outputs": [
    {
     "data": {
      "text/plain": "array([ True])"
     },
     "execution_count": 43,
     "metadata": {},
     "output_type": "execute_result"
    }
   ],
   "source": [
    "default_random_forest_classifier.predict(features_train[0:1])"
   ],
   "metadata": {
    "collapsed": false,
    "pycharm": {
     "name": "#%%\n"
    }
   }
  },
  {
   "cell_type": "code",
   "execution_count": 44,
   "outputs": [
    {
     "data": {
      "text/plain": "array([ True])"
     },
     "execution_count": 44,
     "metadata": {},
     "output_type": "execute_result"
    }
   ],
   "source": [
    "loaded_model.predict(features_train[0:1])"
   ],
   "metadata": {
    "collapsed": false,
    "pycharm": {
     "name": "#%%\n"
    }
   }
  },
  {
   "cell_type": "code",
   "execution_count": 45,
   "outputs": [
    {
     "name": "stdout",
     "output_type": "stream",
     "text": [
      "Heap Model's Accuracy: 0.7913846153846154\n",
      "Loaded Model's Accuracy : 0.7913846153846154\n"
     ]
    }
   ],
   "source": [
    "# Compare the heap model vs loaded model\n",
    "print(\"Heap Model's Accuracy:\", default_random_forest_classifier.score(features_test, output_test))\n",
    "print(\"Loaded Model's Accuracy :\", loaded_model.score(features_test, output_test))"
   ],
   "metadata": {
    "collapsed": false,
    "pycharm": {
     "name": "#%%\n"
    }
   }
  },
  {
   "cell_type": "markdown",
   "metadata": {
    "pycharm": {
     "name": "#%% md\n"
    }
   },
   "source": [
    "#### Parameter Tuning Results\n",
    "\n",
    "After parameter tuning, the performance of the  Random Forest Classifier model is improved\n",
    "\n",
    "- Before: 80.06%\n",
    "- After: 80.8%\n"
   ]
  },
  {
   "cell_type": "markdown",
   "metadata": {
    "pycharm": {
     "name": "#%% md\n"
    }
   },
   "source": [
    "# Step 4: Save and  Load Models\n",
    "\n",
    "After training a  model, it is desirable to have a way to persist the model for future use without having to retrain."
   ]
  },
  {
   "cell_type": "markdown",
   "source": [
    "Let's store the trained random forest classifier model "
   ],
   "metadata": {
    "collapsed": false,
    "pycharm": {
     "name": "#%% md\n"
    }
   }
  },
  {
   "cell_type": "code",
   "execution_count": 46,
   "metadata": {
    "pycharm": {
     "name": "#%%\n"
    }
   },
   "outputs": [],
   "source": [
    "stored_model = pickle.dumps(default_random_forest_classifier)"
   ]
  },
  {
   "cell_type": "markdown",
   "source": [
    "Then load it again"
   ],
   "metadata": {
    "collapsed": false,
    "pycharm": {
     "name": "#%% md\n"
    }
   }
  },
  {
   "cell_type": "code",
   "execution_count": 47,
   "metadata": {
    "pycharm": {
     "name": "#%%\n"
    }
   },
   "outputs": [],
   "source": [
    "loaded_model = pickle.loads(stored_model)"
   ]
  },
  {
   "cell_type": "markdown",
   "source": [
    "We can compare the results of the heap model vs. the unpickled model\n"
   ],
   "metadata": {
    "collapsed": false,
    "pycharm": {
     "name": "#%% md\n"
    }
   }
  },
  {
   "cell_type": "code",
   "execution_count": 48,
   "metadata": {
    "pycharm": {
     "name": "#%%\n"
    }
   },
   "outputs": [
    {
     "data": {
      "text/plain": "array([ True])"
     },
     "execution_count": 48,
     "metadata": {},
     "output_type": "execute_result"
    }
   ],
   "source": [
    "default_random_forest_classifier.predict(features_train[0:1])"
   ]
  },
  {
   "cell_type": "code",
   "execution_count": 49,
   "metadata": {
    "pycharm": {
     "name": "#%%\n"
    }
   },
   "outputs": [
    {
     "data": {
      "text/plain": "array([ True])"
     },
     "execution_count": 49,
     "metadata": {},
     "output_type": "execute_result"
    }
   ],
   "source": [
    "loaded_model.predict(features_train[0:1])"
   ]
  },
  {
   "cell_type": "code",
   "execution_count": 50,
   "metadata": {
    "pycharm": {
     "name": "#%%\n"
    }
   },
   "outputs": [
    {
     "name": "stdout",
     "output_type": "stream",
     "text": [
      "Heap Model's Accuracy: 0.7913846153846154\n",
      "Loaded Model's Accuracy : 0.7913846153846154\n"
     ]
    }
   ],
   "source": [
    "# The scores are the same\n",
    "print(\"Heap Model's Accuracy:\", default_random_forest_classifier.score(features_test, output_test))\n",
    "print(\"Loaded Model's Accuracy :\", loaded_model.score(features_test, output_test))"
   ]
  },
  {
   "cell_type": "markdown",
   "source": [],
   "metadata": {
    "collapsed": false,
    "pycharm": {
     "name": "#%% md\n"
    }
   }
  },
  {
   "cell_type": "markdown",
   "source": [
    "Can see that the heap model and the unpickled model are the same."
   ],
   "metadata": {
    "collapsed": false,
    "pycharm": {
     "name": "#%% md\n"
    }
   }
  },
  {
   "cell_type": "markdown",
   "source": [
    "--------------------------\n",
    "\n",
    "\n",
    "\n",
    "Thanks : )\n",
    "Victoria Pinzhen Liao"
   ],
   "metadata": {
    "collapsed": false,
    "pycharm": {
     "name": "#%% md\n"
    }
   }
  },
  {
   "cell_type": "markdown",
   "source": [],
   "metadata": {
    "collapsed": false,
    "pycharm": {
     "name": "#%% md\n"
    }
   }
  }
 ],
 "metadata": {
  "kernelspec": {
   "display_name": "Python 3 (ipykernel)",
   "language": "python",
   "name": "python3"
  },
  "language_info": {
   "codemirror_mode": {
    "name": "ipython",
    "version": 3
   },
   "file_extension": ".py",
   "mimetype": "text/x-python",
   "name": "python",
   "nbconvert_exporter": "python",
   "pygments_lexer": "ipython3",
   "version": "3.9.12"
  }
 },
 "nbformat": 4,
 "nbformat_minor": 4
}